{
 "cells": [
  {
   "cell_type": "code",
   "execution_count": 2,
   "metadata": {},
   "outputs": [
    {
     "name": "stdout",
     "output_type": "stream",
     "text": [
      "Collecting gensim\n",
      "  Downloading gensim-4.3.3-cp312-cp312-win_amd64.whl.metadata (8.2 kB)\n",
      "Requirement already satisfied: numpy<2.0,>=1.18.5 in c:\\users\\meghana\\appdata\\roaming\\python\\python312\\site-packages (from gensim) (1.26.2)\n",
      "Requirement already satisfied: scipy<1.14.0,>=1.7.0 in c:\\users\\meghana\\appdata\\roaming\\python\\python312\\site-packages (from gensim) (1.12.0)\n",
      "Requirement already satisfied: smart-open>=1.8.1 in c:\\users\\meghana\\appdata\\local\\programs\\python\\python312\\lib\\site-packages (from gensim) (7.1.0)\n",
      "Requirement already satisfied: wrapt in c:\\users\\meghana\\appdata\\roaming\\python\\python312\\site-packages (from smart-open>=1.8.1->gensim) (1.16.0)\n",
      "Downloading gensim-4.3.3-cp312-cp312-win_amd64.whl (24.0 MB)\n",
      "   ---------------------------------------- 0.0/24.0 MB ? eta -:--:--\n",
      "   ---------------------------------------- 0.0/24.0 MB ? eta -:--:--\n",
      "   ---------------------------------------- 0.0/24.0 MB ? eta -:--:--\n",
      "   ---------------------------------------- 0.0/24.0 MB ? eta -:--:--\n",
      "   ---------------------------------------- 0.0/24.0 MB ? eta -:--:--\n",
      "   ---------------------------------------- 0.3/24.0 MB ? eta -:--:--\n",
      "    --------------------------------------- 0.5/24.0 MB 524.3 kB/s eta 0:00:45\n",
      "   - -------------------------------------- 0.8/24.0 MB 817.9 kB/s eta 0:00:29\n",
      "   - -------------------------------------- 0.8/24.0 MB 817.9 kB/s eta 0:00:29\n",
      "   - -------------------------------------- 0.8/24.0 MB 817.9 kB/s eta 0:00:29\n",
      "   - -------------------------------------- 1.0/24.0 MB 565.4 kB/s eta 0:00:41\n",
      "   -- ------------------------------------- 1.6/24.0 MB 798.7 kB/s eta 0:00:29\n",
      "   -- ------------------------------------- 1.6/24.0 MB 798.7 kB/s eta 0:00:29\n",
      "   --- ------------------------------------ 2.4/24.0 MB 965.5 kB/s eta 0:00:23\n",
      "   ----- ---------------------------------- 3.4/24.0 MB 1.3 MB/s eta 0:00:17\n",
      "   ------ --------------------------------- 4.2/24.0 MB 1.5 MB/s eta 0:00:14\n",
      "   --------- ------------------------------ 5.8/24.0 MB 1.7 MB/s eta 0:00:11\n",
      "   ------------ --------------------------- 7.3/24.0 MB 2.0 MB/s eta 0:00:09\n",
      "   ------------- -------------------------- 8.1/24.0 MB 2.1 MB/s eta 0:00:08\n",
      "   --------------- ------------------------ 9.4/24.0 MB 2.2 MB/s eta 0:00:07\n",
      "   ----------------- ---------------------- 10.5/24.0 MB 2.3 MB/s eta 0:00:06\n",
      "   ----------------- ---------------------- 10.5/24.0 MB 2.3 MB/s eta 0:00:06\n",
      "   ------------------- -------------------- 11.8/24.0 MB 2.3 MB/s eta 0:00:06\n",
      "   ---------------------- ----------------- 13.6/24.0 MB 2.5 MB/s eta 0:00:05\n",
      "   ------------------------ --------------- 14.7/24.0 MB 2.6 MB/s eta 0:00:04\n",
      "   ------------------------- -------------- 15.5/24.0 MB 2.6 MB/s eta 0:00:04\n",
      "   --------------------------- ------------ 16.3/24.0 MB 2.6 MB/s eta 0:00:03\n",
      "   ---------------------------- ----------- 17.3/24.0 MB 2.7 MB/s eta 0:00:03\n",
      "   ------------------------------- -------- 18.6/24.0 MB 2.8 MB/s eta 0:00:02\n",
      "   ----------------------------------- ---- 21.5/24.0 MB 3.0 MB/s eta 0:00:01\n",
      "   ------------------------------------- -- 22.8/24.0 MB 3.0 MB/s eta 0:00:01\n",
      "   ---------------------------------------  23.9/24.0 MB 3.1 MB/s eta 0:00:01\n",
      "   ---------------------------------------- 24.0/24.0 MB 3.0 MB/s eta 0:00:00\n",
      "Installing collected packages: gensim\n",
      "Successfully installed gensim-4.3.3\n"
     ]
    }
   ],
   "source": [
    "! pip install gensim\n"
   ]
  },
  {
   "cell_type": "code",
   "execution_count": 3,
   "metadata": {},
   "outputs": [
    {
     "name": "stdout",
     "output_type": "stream",
     "text": [
      "Lemmatized Data: ['sample', 'text', 'file', 'preprocessing', 'contains', 'multiple', 'words', 'sentences']\n",
      "Stemmed Data: ['sampl', 'text', 'file', 'preprocess', 'contain', 'multipl', 'word', 'sentenc']\n"
     ]
    }
   ],
   "source": [
    "from gensim.parsing.preprocessing import preprocess_string, strip_punctuation, strip_numeric, remove_stopwords, strip_short\n",
    "from gensim.parsing.porter import PorterStemmer\n",
    "\n",
    "def preprocess_text(text):\n",
    "    filters = [lambda x: x.lower(), strip_punctuation, strip_numeric, remove_stopwords, strip_short]\n",
    "    return preprocess_string(text, filters)\n",
    "\n",
    "sample_text = \"This is a sample text file for preprocessing. It contains multiple words and sentences.\"\n",
    "\n",
    "processed_data = preprocess_text(sample_text)\n",
    "\n",
    "stemmer = PorterStemmer()\n",
    "stemmed_data = [stemmer.stem(word) for word in processed_data]\n",
    "\n",
    "print(\"Lemmatized Data:\", processed_data)\n",
    "print(\"Stemmed Data:\", stemmed_data)"
   ]
  },
  {
   "cell_type": "code",
   "execution_count": null,
   "metadata": {},
   "outputs": [],
   "source": []
  }
 ],
 "metadata": {
  "kernelspec": {
   "display_name": "Python 3",
   "language": "python",
   "name": "python3"
  },
  "language_info": {
   "codemirror_mode": {
    "name": "ipython",
    "version": 3
   },
   "file_extension": ".py",
   "mimetype": "text/x-python",
   "name": "python",
   "nbconvert_exporter": "python",
   "pygments_lexer": "ipython3",
   "version": "3.12.8"
  }
 },
 "nbformat": 4,
 "nbformat_minor": 2
}
